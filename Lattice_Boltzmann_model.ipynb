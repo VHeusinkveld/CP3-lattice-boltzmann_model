{
 "cells": [
  {
   "cell_type": "markdown",
   "metadata": {},
   "source": [
    "# To Do\n",
    "\n",
    "- Implement intial densities  (now just set to 0), make sure that upper and lower boundary are set to 0.\n",
    "- Implement pressure gradient (hence for in x direction) (In forcing function)\n",
    "- Implement # of iterations dependence on relaxation time\n",
    "- for loop in velocity determinations needs to be replaced by other less time consuming mechanism\n",
    "- In BC np.argwhere niet gebruiken\n",
    "- Split in seperate files\n",
    "- Namespace for results (needed for data processing)\n",
    "- Add movie\n",
    "- Initialisation of densities --> Arbitrary (x)\n",
    "- Add docstrings (x)\n",
    "- Imaging in seperate function (x)\n",
    "- Implement velocity spectrum (x)"
   ]
  },
  {
   "cell_type": "code",
   "execution_count": 587,
   "metadata": {},
   "outputs": [],
   "source": [
    "import numpy as np\n",
    "from sys import exit \n",
    "from types import SimpleNamespace\n",
    "import matplotlib.pyplot as plt\n",
    "\n",
    "def plot_boltzmann_lattice(self, par):\n",
    "    \"\"\" Plot of 2D boltzman lattice with velocity profile over entire lattice\n",
    "    \n",
    "    Parameters\n",
    "    ----------\n",
    "    self : NameSpace\n",
    "        simulation constants\n",
    "    par: NameSpace\n",
    "        containing parameter arrays\n",
    "        \n",
    "    Returns\n",
    "    -------\n",
    "    plots of system (UPDATE THIS DESCRIPTION!!!!!!!)\n",
    "        \n",
    "    \"\"\"\n",
    "    \n",
    "    plt.subplot(1, 2, 1)\n",
    "    plt.imshow(par.u[:, 1:sim.W_in, 1])\n",
    "    plt.xlabel('xlabel')\n",
    "    plt.ylabel('ylabel')\n",
    "    plt.colorbar()\n",
    "    plt.subplot(1, 2, 2)\n",
    "    plt.imshow(abs(par.u[:, 1:sim.W_in, 0]))\n",
    "    plt.xlabel('xlabel')\n",
    "    plt.ylabel('ylabel')\n",
    "    plt.colorbar()\n",
    "    plt.show()\n",
    "    \n",
    "\n",
    "def plot_velocity_profile(self, par):\n",
    "    \"\"\" Plot of velocity profile over the width of the lattice\n",
    "    \n",
    "    Parameters\n",
    "    ----------\n",
    "    self : NameSpace\n",
    "        simulation constants\n",
    "    par: NameSpace\n",
    "        containing parameter arrays\n",
    "        \n",
    "    Returns\n",
    "    -------\n",
    "    plots of system (UPDATE THIS DESCRIPTION!!!!!!!)\n",
    "        \n",
    "    \"\"\"\n",
    "    x_axis = np.arange(self.W_in)\n",
    "    plt.plot(x_axis,par.u[0,1:self.W_in,1])\n",
    "    plt.xlabel('Width')\n",
    "    plt.ylabel('Velocity')\n",
    "    plt.title('Velocity profile at t = ...')\n",
    "    plt.show()\n",
    "    \n",
    "def boltzmann_sim(self):\n",
    "    \"\"\" Simulation of the boltzmann lattice\n",
    "    \n",
    "    Parameters\n",
    "    ----------\n",
    "    self : NameSpace\n",
    "        simulation constants \n",
    "        \n",
    "    Returns\n",
    "    -------\n",
    "    par: NameSpace\n",
    "        containing parameter arrays\n",
    "        \n",
    "    \"\"\"\n",
    "    \n",
    "    input_check(self)\n",
    "    sim, par = initialization(self)\n",
    "    \n",
    "    for i in range(sim.iterations):\n",
    "        par = shift_n(self, par)\n",
    "        par = boundary_bounch(self, par)\n",
    "        par = velocity(self, par)\n",
    "        par = forcing(self, par)\n",
    "        par = eq_n(self, par)\n",
    "        par = relax_n(self, par)\n",
    "        \n",
    "    plot_boltzmann_lattice(sim, par)\n",
    "    \n",
    "    return par\n",
    "\n",
    "def input_check(self):\n",
    "    \"\"\" Checks imput constants and gives an error when width, height or res have wrong values\n",
    "    \n",
    "    Parameters\n",
    "    ----------\n",
    "    self : NameSpace\n",
    "        simulation constants \n",
    "        \n",
    "    Returns\n",
    "    -------\n",
    "    error warning if needed\n",
    "        \n",
    "    \"\"\"\n",
    "    \n",
    "    if (self.L/self.res)%1 !=0 or (self.W/self.res)%1 != 0:\n",
    "        exit('Choose width, height and res such that an integer ammount of points is generated.')\n",
    "\n",
    "def initialization(self):\n",
    "    \"\"\" Initializes arrays. \n",
    "    \n",
    "    Parameters\n",
    "    ----------\n",
    "    self : NameSpace\n",
    "        simulation constants \n",
    "        \n",
    "    Returns\n",
    "    -------\n",
    "    par: NameSpace\n",
    "        containing initialized parameter arrays\n",
    "    \n",
    "    \"\"\"\n",
    "    \n",
    "    # Simulation parameters \n",
    "    par = SimpleNamespace()\n",
    "    \n",
    "    # Cartesian grid coordinates \n",
    "    self.grid_coord = np.meshgrid(np.linspace(0, self.L, self.L_n), np.linspace(0, self.W, self.W_n))\n",
    "    \n",
    "    # Integer grid coordinates\n",
    "    self.grid_int_coord = np.meshgrid(range(self.L_n), range(self.W_n))\n",
    "    \n",
    "    # Density array\n",
    "    par.n = np.zeros((self.L_n, self.W_n, len(self.e)), dtype = float)\n",
    "    par.rho = np.ones((self.L_n, self.W_n), dtype = float)\n",
    "    par.u = np.zeros((self.L_n, self.W_n, 2), dtype = float)\n",
    "    \n",
    "    par = forcing(self, par)\n",
    "    par.u[:, [0, self.W_in], :] = 0\n",
    "\n",
    "    par = eq_n(self, par)\n",
    "    par.n = par.n_eq\n",
    "            \n",
    "    #par.n[:,[0, self.W_in],:] = 0\n",
    "    \n",
    "    return self, par\n",
    "\n",
    "def shift_n(self, par):\n",
    "    \"\"\" Shifts densities according to their unit vectors. \n",
    "    \n",
    "    Parameters\n",
    "    ----------\n",
    "    self : NameSpace\n",
    "        simulation constants \n",
    "    par : NameSpace\n",
    "        simulation parameters \n",
    "    \n",
    "    Returns\n",
    "    -------\n",
    "    par: NameSpace\n",
    "        containing parameter arrays and\n",
    "        updated simulation density (n) parameters\n",
    "    \n",
    "    \"\"\"\n",
    "    \n",
    "    for i in range(len(self.e)):\n",
    "        \n",
    "        par.n[:,:,i] = np.roll(par.n[:,:,i], self.e[i], axis = [1, 0])\n",
    "        \n",
    "    return par\n",
    "\n",
    "def boundary_bounch(self, par):\n",
    "    \"\"\"\n",
    "    \n",
    "    Takes the upper boundary and the lower boundary of a certain density vector. \n",
    "    Mirrors this vector and assigns the density accordingly. \n",
    "    \n",
    "    Parameters\n",
    "    ----------\n",
    "    self : NameSpace\n",
    "        simulation constants \n",
    "    par : NameSpace\n",
    "        simulation parameters \n",
    "    \n",
    "    Returns\n",
    "    -------\n",
    "    par: NameSpace\n",
    "        containing parameter arrays and\n",
    "        updated simulation density (n) parameters\n",
    "    \n",
    "    \"\"\"    \n",
    "    \n",
    "    # To keep track of exchanged boundaries\n",
    "    exchanged = np.ones((len(self.e),), dtype = bool)\n",
    "    \n",
    "    for i in range(len(self.e)):\n",
    "        if exchanged[i]:\n",
    "            e_inv = -1 * self.e[i]\n",
    "            j = np.argwhere(np.sum(e_inv == self.e, axis = 1) == 2)[0]\n",
    "            \n",
    "            # Select upper and lower boundary \n",
    "            bd_1 = par.n[:,[0, self.W_in], i]\n",
    "            bd_2 = par.n[:,[0, self.W_in], j]\n",
    "            \n",
    "            # Exchange densities accordingly \n",
    "            par.n[:,[0, self.W_in], i] = bd_2\n",
    "            par.n[:,[0, self.W_in], j] = bd_1\n",
    "            \n",
    "            exchanged[i] = False\n",
    "            exchanged[j] = False\n",
    "            \n",
    "    return par \n",
    "\n",
    "def eq_n(self, par):\n",
    "    \"\"\" Determines the equilibrium densities for all directions in grid\n",
    "    \n",
    "    Parameters\n",
    "    ----------\n",
    "    self : NameSpace\n",
    "        simulation constants\n",
    "    par: NameSpace\n",
    "        containing parameter arrays\n",
    "        \n",
    "    Returns\n",
    "    -------\n",
    "    par: NameSpace\n",
    "        containing parameter arrays and\n",
    "        updated simulation equilibrium density (n_eq) and velocity (u) parameters\n",
    "        \n",
    "    \"\"\"\n",
    "    par.n_eq = np.zeros(np.shape(par.n), dtype = float)\n",
    "   \n",
    "    c = self.c\n",
    "    u = par.u\n",
    " \n",
    "    for i in range(len(self.e)):\n",
    "        par.n_eq[:,:,i] = self.w[i]*par.rho/self.m*(1 + (3/c**2)*np.dot(u, self.e[i]) +\n",
    "                                                    (9/(2*c**4))*np.dot(u, self.e[i])**2 -\n",
    "                                                    (3/(2*c**2))*np.sum((u * u), axis = 2))                      \n",
    "    return par \n",
    "\n",
    "def velocity(self, par):\n",
    "    \"\"\" Determines the weighted velocities for all directions for every grid point\n",
    "    \n",
    "    Parameters\n",
    "    ----------\n",
    "    self : NameSpace\n",
    "        simulation constants\n",
    "    par: NameSpace\n",
    "        containing parameter arrays\n",
    "        \n",
    "    Returns\n",
    "    -------\n",
    "    par: NameSpace\n",
    "        containing parameter arrays and\n",
    "        updated simulation velocity (u) and average density (rho) parameters\n",
    "        \n",
    "    \"\"\"\n",
    "    e_norm = np.sqrt(np.sum(abs(sim.e), axis = 1)) # takes care of normalization since some vectors are [1, 1]\n",
    "    par.rho = np.tensordot(par.n, e_norm, axes = 1)\n",
    "    #par.rho = np.sum(par.n, axis = 2)\n",
    "    par.u = np.tensordot(par.n, self.e, axes = 1)\n",
    "    \n",
    "    # Try to remove this for loop\n",
    "    for k in range(len(par.u[0,0,:])):\n",
    "\n",
    "        par.u[:,:,k] = par.u[:,:,k]/par.rho\n",
    "\n",
    "    return par\n",
    "\n",
    "def forcing(self, par):\n",
    "    #incorrect still, not sure if this is a x or y forcing \n",
    "    \n",
    "    \"\"\" Changes the velocity according to the pressure gradient in the system\n",
    "    \n",
    "    Parameters\n",
    "    ----------\n",
    "    self : NameSpace\n",
    "        simulation constants\n",
    "    par: NameSpace\n",
    "        containing parameter arrays\n",
    "        \n",
    "    Returns\n",
    "    -------\n",
    "    par: NameSpace\n",
    "        containing parameter arrays and\n",
    "        updated simulation velocity (u) parameters\n",
    "        \n",
    "    \"\"\"\n",
    "    \n",
    "    par.u[:,:,1] = par.u[:,:,1] + 0.01*self.c #(Part of 0.5*sim.c should be a relation with pressure instead. See ex. Ch. 14)\n",
    "        \n",
    "    return par \n",
    "\n",
    "def relax_n(self, par):\n",
    "    \"\"\" Determines the densities in the system after relaxation\n",
    "    \n",
    "    Parameters\n",
    "    ----------\n",
    "    self : NameSpace\n",
    "        simulation constants\n",
    "    par: NameSpace\n",
    "        containing parameter arrays\n",
    "        \n",
    "    Returns\n",
    "    -------\n",
    "    par: NameSpace\n",
    "        containing parameter arrays and\n",
    "        updated simulation density (n) parameters\n",
    "        \n",
    "    \"\"\"\n",
    "\n",
    "    par.n = par.n - (par.n - par.n_eq)/self.tau\n",
    "    \n",
    "    return par\n",
    "    "
   ]
  },
  {
   "cell_type": "code",
   "execution_count": 589,
   "metadata": {
    "scrolled": false
   },
   "outputs": [
    {
     "data": {
      "image/png": "[encoded data removed]",
      "text/plain": [
       "<matplotlib.figure.Figure at 0x7f3cf5f17588>"
      ]
     },
     "metadata": {},
     "output_type": "display_data"
    }
   ],
   "source": [
    "import numpy as np\n",
    "from types import SimpleNamespace\n",
    "\n",
    "sim = SimpleNamespace()\n",
    "sim.res = 1 # Space resolution\n",
    "sim.L, sim.W = 50, 20\n",
    "sim.L_in, sim.W_in = int(sim.L/sim.res), int(sim.W/sim.res)  \n",
    "sim.L_n,  sim.W_n  = sim.L_in + 1, sim.W_in + 1\n",
    "\n",
    "sim.w = np.array([4, 1/4, 1, 1/4, 1, 1/4, 1, 1/4, 1])/9\n",
    "sim.e = np.array([[0,0], [1,0], [1,1], [0,1], [-1,1], [-1,0], [-1,-1], [0,-1], [1,-1]])\n",
    "\n",
    "sim.iterations = 400\n",
    "\n",
    "sim.dt = 1\n",
    "sim.c = sim.res/sim.dt\n",
    "sim.nu = 1\n",
    "sim.tau = (6*(sim.nu*(sim.dt/sim.res**2)) + 1)/2\n",
    "sim.m = 1\n",
    "sim.P = 1\n",
    "\n",
    "par = boltzmann_sim(sim)"
   ]
  },
  {
   "cell_type": "code",
   "execution_count": 329,
   "metadata": {},
   "outputs": [
    {
     "ename": "ValueError",
     "evalue": "x and y must have same first dimension, but have shapes (20,) and (19,)",
     "output_type": "error",
     "traceback": [
      "\u001b[0;31m---------------------------------------------------------------------------\u001b[0m",
      "\u001b[0;31mValueError\u001b[0m                                Traceback (most recent call last)",
      "\u001b[0;32m<ipython-input-329-56363e1014b8>\u001b[0m in \u001b[0;36m<module>\u001b[0;34m()\u001b[0m\n\u001b[0;32m----> 1\u001b[0;31m \u001b[0mplot_velocity_profile\u001b[0m\u001b[0;34m(\u001b[0m\u001b[0msim\u001b[0m\u001b[0;34m,\u001b[0m\u001b[0mpar\u001b[0m\u001b[0;34m)\u001b[0m\u001b[0;34m\u001b[0m\u001b[0m\n\u001b[0m",
      "\u001b[0;32m<ipython-input-317-aac10408b5f5>\u001b[0m in \u001b[0;36mplot_velocity_profile\u001b[0;34m(self, par)\u001b[0m\n\u001b[1;32m     49\u001b[0m     \"\"\"\n\u001b[1;32m     50\u001b[0m     \u001b[0mx_axis\u001b[0m \u001b[0;34m=\u001b[0m \u001b[0mnp\u001b[0m\u001b[0;34m.\u001b[0m\u001b[0marange\u001b[0m\u001b[0;34m(\u001b[0m\u001b[0mself\u001b[0m\u001b[0;34m.\u001b[0m\u001b[0mW_in\u001b[0m\u001b[0;34m)\u001b[0m\u001b[0;34m\u001b[0m\u001b[0m\n\u001b[0;32m---> 51\u001b[0;31m     \u001b[0mplt\u001b[0m\u001b[0;34m.\u001b[0m\u001b[0mplot\u001b[0m\u001b[0;34m(\u001b[0m\u001b[0mx_axis\u001b[0m\u001b[0;34m,\u001b[0m\u001b[0mpar\u001b[0m\u001b[0;34m.\u001b[0m\u001b[0mu\u001b[0m\u001b[0;34m[\u001b[0m\u001b[0;36m0\u001b[0m\u001b[0;34m,\u001b[0m\u001b[0;36m1\u001b[0m\u001b[0;34m:\u001b[0m\u001b[0mself\u001b[0m\u001b[0;34m.\u001b[0m\u001b[0mW_in\u001b[0m\u001b[0;34m,\u001b[0m\u001b[0;36m1\u001b[0m\u001b[0;34m]\u001b[0m\u001b[0;34m)\u001b[0m\u001b[0;34m\u001b[0m\u001b[0m\n\u001b[0m\u001b[1;32m     52\u001b[0m     \u001b[0mplt\u001b[0m\u001b[0;34m.\u001b[0m\u001b[0mxlabel\u001b[0m\u001b[0;34m(\u001b[0m\u001b[0;34m'Width'\u001b[0m\u001b[0;34m)\u001b[0m\u001b[0;34m\u001b[0m\u001b[0m\n\u001b[1;32m     53\u001b[0m     \u001b[0mplt\u001b[0m\u001b[0;34m.\u001b[0m\u001b[0mylabel\u001b[0m\u001b[0;34m(\u001b[0m\u001b[0;34m'Velocity'\u001b[0m\u001b[0;34m)\u001b[0m\u001b[0;34m\u001b[0m\u001b[0m\n",
      "\u001b[0;32m/opt/conda/lib/python3.6/site-packages/matplotlib/pyplot.py\u001b[0m in \u001b[0;36mplot\u001b[0;34m(*args, **kwargs)\u001b[0m\n\u001b[1;32m   3315\u001b[0m                       mplDeprecation)\n\u001b[1;32m   3316\u001b[0m     \u001b[0;32mtry\u001b[0m\u001b[0;34m:\u001b[0m\u001b[0;34m\u001b[0m\u001b[0m\n\u001b[0;32m-> 3317\u001b[0;31m         \u001b[0mret\u001b[0m \u001b[0;34m=\u001b[0m \u001b[0max\u001b[0m\u001b[0;34m.\u001b[0m\u001b[0mplot\u001b[0m\u001b[0;34m(\u001b[0m\u001b[0;34m*\u001b[0m\u001b[0margs\u001b[0m\u001b[0;34m,\u001b[0m \u001b[0;34m**\u001b[0m\u001b[0mkwargs\u001b[0m\u001b[0;34m)\u001b[0m\u001b[0;34m\u001b[0m\u001b[0m\n\u001b[0m\u001b[1;32m   3318\u001b[0m     \u001b[0;32mfinally\u001b[0m\u001b[0;34m:\u001b[0m\u001b[0;34m\u001b[0m\u001b[0m\n\u001b[1;32m   3319\u001b[0m         \u001b[0max\u001b[0m\u001b[0;34m.\u001b[0m\u001b[0m_hold\u001b[0m \u001b[0;34m=\u001b[0m \u001b[0mwashold\u001b[0m\u001b[0;34m\u001b[0m\u001b[0m\n",
      "\u001b[0;32m/opt/conda/lib/python3.6/site-packages/matplotlib/__init__.py\u001b[0m in \u001b[0;36minner\u001b[0;34m(ax, *args, **kwargs)\u001b[0m\n\u001b[1;32m   1896\u001b[0m                     warnings.warn(msg % (label_namer, func.__name__),\n\u001b[1;32m   1897\u001b[0m                                   RuntimeWarning, stacklevel=2)\n\u001b[0;32m-> 1898\u001b[0;31m             \u001b[0;32mreturn\u001b[0m \u001b[0mfunc\u001b[0m\u001b[0;34m(\u001b[0m\u001b[0max\u001b[0m\u001b[0;34m,\u001b[0m \u001b[0;34m*\u001b[0m\u001b[0margs\u001b[0m\u001b[0;34m,\u001b[0m \u001b[0;34m**\u001b[0m\u001b[0mkwargs\u001b[0m\u001b[0;34m)\u001b[0m\u001b[0;34m\u001b[0m\u001b[0m\n\u001b[0m\u001b[1;32m   1899\u001b[0m         \u001b[0mpre_doc\u001b[0m \u001b[0;34m=\u001b[0m \u001b[0minner\u001b[0m\u001b[0;34m.\u001b[0m\u001b[0m__doc__\u001b[0m\u001b[0;34m\u001b[0m\u001b[0m\n\u001b[1;32m   1900\u001b[0m         \u001b[0;32mif\u001b[0m \u001b[0mpre_doc\u001b[0m \u001b[0;32mis\u001b[0m \u001b[0;32mNone\u001b[0m\u001b[0;34m:\u001b[0m\u001b[0;34m\u001b[0m\u001b[0m\n",
      "\u001b[0;32m/opt/conda/lib/python3.6/site-packages/matplotlib/axes/_axes.py\u001b[0m in \u001b[0;36mplot\u001b[0;34m(self, *args, **kwargs)\u001b[0m\n\u001b[1;32m   1404\u001b[0m         \u001b[0mkwargs\u001b[0m \u001b[0;34m=\u001b[0m \u001b[0mcbook\u001b[0m\u001b[0;34m.\u001b[0m\u001b[0mnormalize_kwargs\u001b[0m\u001b[0;34m(\u001b[0m\u001b[0mkwargs\u001b[0m\u001b[0;34m,\u001b[0m \u001b[0m_alias_map\u001b[0m\u001b[0;34m)\u001b[0m\u001b[0;34m\u001b[0m\u001b[0m\n\u001b[1;32m   1405\u001b[0m \u001b[0;34m\u001b[0m\u001b[0m\n\u001b[0;32m-> 1406\u001b[0;31m         \u001b[0;32mfor\u001b[0m \u001b[0mline\u001b[0m \u001b[0;32min\u001b[0m \u001b[0mself\u001b[0m\u001b[0;34m.\u001b[0m\u001b[0m_get_lines\u001b[0m\u001b[0;34m(\u001b[0m\u001b[0;34m*\u001b[0m\u001b[0margs\u001b[0m\u001b[0;34m,\u001b[0m \u001b[0;34m**\u001b[0m\u001b[0mkwargs\u001b[0m\u001b[0;34m)\u001b[0m\u001b[0;34m:\u001b[0m\u001b[0;34m\u001b[0m\u001b[0m\n\u001b[0m\u001b[1;32m   1407\u001b[0m             \u001b[0mself\u001b[0m\u001b[0;34m.\u001b[0m\u001b[0madd_line\u001b[0m\u001b[0;34m(\u001b[0m\u001b[0mline\u001b[0m\u001b[0;34m)\u001b[0m\u001b[0;34m\u001b[0m\u001b[0m\n\u001b[1;32m   1408\u001b[0m             \u001b[0mlines\u001b[0m\u001b[0;34m.\u001b[0m\u001b[0mappend\u001b[0m\u001b[0;34m(\u001b[0m\u001b[0mline\u001b[0m\u001b[0;34m)\u001b[0m\u001b[0;34m\u001b[0m\u001b[0m\n",
      "\u001b[0;32m/opt/conda/lib/python3.6/site-packages/matplotlib/axes/_base.py\u001b[0m in \u001b[0;36m_grab_next_args\u001b[0;34m(self, *args, **kwargs)\u001b[0m\n\u001b[1;32m    405\u001b[0m                 \u001b[0;32mreturn\u001b[0m\u001b[0;34m\u001b[0m\u001b[0m\n\u001b[1;32m    406\u001b[0m             \u001b[0;32mif\u001b[0m \u001b[0mlen\u001b[0m\u001b[0;34m(\u001b[0m\u001b[0mremaining\u001b[0m\u001b[0;34m)\u001b[0m \u001b[0;34m<=\u001b[0m \u001b[0;36m3\u001b[0m\u001b[0;34m:\u001b[0m\u001b[0;34m\u001b[0m\u001b[0m\n\u001b[0;32m--> 407\u001b[0;31m                 \u001b[0;32mfor\u001b[0m \u001b[0mseg\u001b[0m \u001b[0;32min\u001b[0m \u001b[0mself\u001b[0m\u001b[0;34m.\u001b[0m\u001b[0m_plot_args\u001b[0m\u001b[0;34m(\u001b[0m\u001b[0mremaining\u001b[0m\u001b[0;34m,\u001b[0m \u001b[0mkwargs\u001b[0m\u001b[0;34m)\u001b[0m\u001b[0;34m:\u001b[0m\u001b[0;34m\u001b[0m\u001b[0m\n\u001b[0m\u001b[1;32m    408\u001b[0m                     \u001b[0;32myield\u001b[0m \u001b[0mseg\u001b[0m\u001b[0;34m\u001b[0m\u001b[0m\n\u001b[1;32m    409\u001b[0m                 \u001b[0;32mreturn\u001b[0m\u001b[0;34m\u001b[0m\u001b[0m\n",
      "\u001b[0;32m/opt/conda/lib/python3.6/site-packages/matplotlib/axes/_base.py\u001b[0m in \u001b[0;36m_plot_args\u001b[0;34m(self, tup, kwargs)\u001b[0m\n\u001b[1;32m    383\u001b[0m             \u001b[0mx\u001b[0m\u001b[0;34m,\u001b[0m \u001b[0my\u001b[0m \u001b[0;34m=\u001b[0m \u001b[0mindex_of\u001b[0m\u001b[0;34m(\u001b[0m\u001b[0mtup\u001b[0m\u001b[0;34m[\u001b[0m\u001b[0;34m-\u001b[0m\u001b[0;36m1\u001b[0m\u001b[0;34m]\u001b[0m\u001b[0;34m)\u001b[0m\u001b[0;34m\u001b[0m\u001b[0m\n\u001b[1;32m    384\u001b[0m \u001b[0;34m\u001b[0m\u001b[0m\n\u001b[0;32m--> 385\u001b[0;31m         \u001b[0mx\u001b[0m\u001b[0;34m,\u001b[0m \u001b[0my\u001b[0m \u001b[0;34m=\u001b[0m \u001b[0mself\u001b[0m\u001b[0;34m.\u001b[0m\u001b[0m_xy_from_xy\u001b[0m\u001b[0;34m(\u001b[0m\u001b[0mx\u001b[0m\u001b[0;34m,\u001b[0m \u001b[0my\u001b[0m\u001b[0;34m)\u001b[0m\u001b[0;34m\u001b[0m\u001b[0m\n\u001b[0m\u001b[1;32m    386\u001b[0m \u001b[0;34m\u001b[0m\u001b[0m\n\u001b[1;32m    387\u001b[0m         \u001b[0;32mif\u001b[0m \u001b[0mself\u001b[0m\u001b[0;34m.\u001b[0m\u001b[0mcommand\u001b[0m \u001b[0;34m==\u001b[0m \u001b[0;34m'plot'\u001b[0m\u001b[0;34m:\u001b[0m\u001b[0;34m\u001b[0m\u001b[0m\n",
      "\u001b[0;32m/opt/conda/lib/python3.6/site-packages/matplotlib/axes/_base.py\u001b[0m in \u001b[0;36m_xy_from_xy\u001b[0;34m(self, x, y)\u001b[0m\n\u001b[1;32m    242\u001b[0m         \u001b[0;32mif\u001b[0m \u001b[0mx\u001b[0m\u001b[0;34m.\u001b[0m\u001b[0mshape\u001b[0m\u001b[0;34m[\u001b[0m\u001b[0;36m0\u001b[0m\u001b[0;34m]\u001b[0m \u001b[0;34m!=\u001b[0m \u001b[0my\u001b[0m\u001b[0;34m.\u001b[0m\u001b[0mshape\u001b[0m\u001b[0;34m[\u001b[0m\u001b[0;36m0\u001b[0m\u001b[0;34m]\u001b[0m\u001b[0;34m:\u001b[0m\u001b[0;34m\u001b[0m\u001b[0m\n\u001b[1;32m    243\u001b[0m             raise ValueError(\"x and y must have same first dimension, but \"\n\u001b[0;32m--> 244\u001b[0;31m                              \"have shapes {} and {}\".format(x.shape, y.shape))\n\u001b[0m\u001b[1;32m    245\u001b[0m         \u001b[0;32mif\u001b[0m \u001b[0mx\u001b[0m\u001b[0;34m.\u001b[0m\u001b[0mndim\u001b[0m \u001b[0;34m>\u001b[0m \u001b[0;36m2\u001b[0m \u001b[0;32mor\u001b[0m \u001b[0my\u001b[0m\u001b[0;34m.\u001b[0m\u001b[0mndim\u001b[0m \u001b[0;34m>\u001b[0m \u001b[0;36m2\u001b[0m\u001b[0;34m:\u001b[0m\u001b[0;34m\u001b[0m\u001b[0m\n\u001b[1;32m    246\u001b[0m             raise ValueError(\"x and y can be no greater than 2-D, but have \"\n",
      "\u001b[0;31mValueError\u001b[0m: x and y must have same first dimension, but have shapes (20,) and (19,)"
     ]
    }
   ],
   "source": [
    "plot_velocity_profile(sim, par)"
   ]
  },
  {
   "cell_type": "code",
   "execution_count": null,
   "metadata": {},
   "outputs": [],
   "source": [
    "# replaced by tensor dot in code \n",
    "np.shape(np.mean(np.reshape(par.n,par.rho (21, 6, 9, 1)) * sim.e, axis = 2))"
   ]
  },
  {
   "cell_type": "code",
   "execution_count": null,
   "metadata": {},
   "outputs": [],
   "source": [
    "print(par.u)"
   ]
  },
  {
   "cell_type": "code",
   "execution_count": null,
   "metadata": {},
   "outputs": [],
   "source": [
    "print(par.rho[0:5,0:5])"
   ]
  },
  {
   "cell_type": "code",
   "execution_count": null,
   "metadata": {},
   "outputs": [],
   "source": [
    "np.zeros((5,3,2))"
   ]
  },
  {
   "cell_type": "code",
   "execution_count": null,
   "metadata": {},
   "outputs": [],
   "source": [
    "np.zeros((5,3))"
   ]
  },
  {
   "cell_type": "code",
   "execution_count": null,
   "metadata": {},
   "outputs": [],
   "source": [
    "print(par.u[0:5,0:3,:])"
   ]
  },
  {
   "cell_type": "code",
   "execution_count": null,
   "metadata": {},
   "outputs": [],
   "source": [
    "print(np.shape(par.u[0:5,0:3,:]))"
   ]
  },
  {
   "cell_type": "code",
   "execution_count": null,
   "metadata": {},
   "outputs": [],
   "source": [
    "Test_u = par.u[0:5,0:3,:].reshape(2,5,3)\n",
    "#print(Test)\n",
    "Test_rho = par.rho[0:5,0:3]"
   ]
  },
  {
   "cell_type": "code",
   "execution_count": null,
   "metadata": {},
   "outputs": [],
   "source": [
    "Test_ratio = Test_u/Test_rho\n",
    "print(Test_ratio)\n",
    "Test_ratio.reshape(5,3,2)"
   ]
  },
  {
   "cell_type": "code",
   "execution_count": null,
   "metadata": {},
   "outputs": [],
   "source": [
    "Test_u2 = np.zeros((5,3,2),dtype=float)\n",
    "for i in range(2):\n",
    "    Test_u2[:,:,i] = par.u[0:5,0:3,i]/par.rho[0:5,0:3]"
   ]
  },
  {
   "cell_type": "code",
   "execution_count": null,
   "metadata": {},
   "outputs": [],
   "source": [
    "print(Test_u2)"
   ]
  },
  {
   "cell_type": "code",
   "execution_count": 37,
   "metadata": {},
   "outputs": [
    {
     "data": {
      "text/plain": [
       "(50,)"
      ]
     },
     "execution_count": 37,
     "metadata": {},
     "output_type": "execute_result"
    }
   ],
   "source": [
    "np.shape(np.arange(sim.W_in))"
   ]
  },
  {
   "cell_type": "code",
   "execution_count": 36,
   "metadata": {},
   "outputs": [
    {
     "data": {
      "text/plain": [
       "array([ 0,  1,  2,  3,  4,  5,  6,  7,  8,  9, 10, 11, 12, 13, 14, 15, 16,\n",
       "       17, 18, 19, 20, 21, 22, 23, 24, 25, 26, 27, 28, 29, 30, 31, 32, 33,\n",
       "       34, 35, 36, 37, 38, 39, 40, 41, 42, 43, 44, 45, 46, 47, 48, 49])"
      ]
     },
     "execution_count": 36,
     "metadata": {},
     "output_type": "execute_result"
    }
   ],
   "source": [
    "np.arange(sim.W_in)"
   ]
  },
  {
   "cell_type": "code",
   "execution_count": 35,
   "metadata": {},
   "outputs": [
    {
     "data": {
      "text/plain": [
       "(49,)"
      ]
     },
     "execution_count": 35,
     "metadata": {},
     "output_type": "execute_result"
    }
   ],
   "source": [
    "np.shape(par.u[0,1:sim.W_in,1])"
   ]
  },
  {
   "cell_type": "code",
   "execution_count": 15,
   "metadata": {},
   "outputs": [
    {
     "data": {
      "text/plain": [
       "50"
      ]
     },
     "execution_count": 15,
     "metadata": {},
     "output_type": "execute_result"
    }
   ],
   "source": [
    "sim.W_in"
   ]
  },
  {
   "cell_type": "code",
   "execution_count": 21,
   "metadata": {},
   "outputs": [
    {
     "data": {
      "text/plain": [
       "(51,)"
      ]
     },
     "execution_count": 21,
     "metadata": {},
     "output_type": "execute_result"
    }
   ],
   "source": [
    "np.shape(par.u[0,:,1])"
   ]
  },
  {
   "cell_type": "code",
   "execution_count": null,
   "metadata": {},
   "outputs": [],
   "source": [
    "1:50"
   ]
  },
  {
   "cell_type": "code",
   "execution_count": null,
   "metadata": {},
   "outputs": [],
   "source": []
  },
  {
   "cell_type": "code",
   "execution_count": null,
   "metadata": {},
   "outputs": [],
   "source": []
  }
 ],
 "metadata": {
  "kernelspec": {
   "display_name": "Python 3",
   "language": "python",
   "name": "python3"
  },
  "language_info": {
   "codemirror_mode": {
    "name": "ipython",
    "version": 3
   },
   "file_extension": ".py",
   "mimetype": "text/x-python",
   "name": "python",
   "nbconvert_exporter": "python",
   "pygments_lexer": "ipython3",
   "version": "3.6.2"
  }
 },
 "nbformat": 4,
 "nbformat_minor": 2
}
