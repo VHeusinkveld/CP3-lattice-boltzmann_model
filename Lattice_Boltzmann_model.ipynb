{
 "cells": [
  {
   "cell_type": "markdown",
   "metadata": {},
   "source": [
    "# To Do\n",
    "\n",
    "- Implement n_i^eq + relaxation \n",
    "- Implement intial densities  (now just set to 0), make sure that upper and lower boundary are set to 0.\n",
    "- Implement input and output boundaries (bounch has been done already\n",
    "- Implement pressure gradient (hence for in x diretion)\n",
    "- Implement visualization \n"
   ]
  },
  {
   "cell_type": "code",
   "execution_count": 610,
   "metadata": {},
   "outputs": [],
   "source": [
    "import numpy as np\n",
    "from sys import exit \n",
    "from types import SimpleNamespace\n",
    "import matplotlib.pyplot as plt\n",
    "\n",
    "\n",
    "def boltzmann_sim(self):\n",
    "    \"\"\"\n",
    "    \n",
    "    Simulation of the boltzmann lattice\n",
    "    \n",
    "    \n",
    "    \"\"\"\n",
    "    \n",
    "    input_check(self)\n",
    "    sim, par = initialization(self)\n",
    "    \n",
    "    for i in range(10):\n",
    "        par = shift_n(self, par)\n",
    "        par = boundary_bounch(self, par)\n",
    "        par = velocity(self, par)\n",
    "        par = forcing(self, par)\n",
    "        par = eq_n(self, par)\n",
    "        par = relax_n(self, par)\n",
    "        plt.imshow(par.rho)\n",
    "        plt.show()\n",
    "    \n",
    "    return par\n",
    "\n",
    "def input_check(self):\n",
    "    if (self.L/self.res)%1 !=0 or (self.W/self.res)%1 != 0:\n",
    "        exit('Choose width, height and res such that an integer ammount of points is generated.')\n",
    "\n",
    "def initialization(self):\n",
    "    \"\"\" Initializes arrays. \n",
    "    \n",
    "    Parameters\n",
    "    ----------\n",
    "    self : NameSpace\n",
    "        simulation constants \n",
    "        \n",
    "    Returns\n",
    "    -------\n",
    "    par: NameSpace\n",
    "        containing initialized parameter arrays\n",
    "    \n",
    "    \"\"\"\n",
    "    \n",
    "    # Simulation parameters \n",
    "    par = SimpleNamespace()\n",
    "    \n",
    "    # Cartesian grid coordinates \n",
    "    self.grid_coord = np.meshgrid(np.linspace(0, self.L, self.L_n), np.linspace(0, self.W, self.W_n))\n",
    "    \n",
    "    # Integer grid coordinates\n",
    "    self.grid_int_coord = np.meshgrid(range(self.L_n), range(self.W_n))\n",
    "    \n",
    "    # Density array\n",
    "    par.n = 0.5*np.ones((self.L_n, self.W_n, len(self.e)), dtype = float)\n",
    "    par.n[:,[0, self.W_in],:] = 0\n",
    "    \n",
    "    return self, par\n",
    "\n",
    "def shift_n(self, par):\n",
    "    \"\"\" Shifts densities according to their unit vectors. \n",
    "    \n",
    "    Parameters\n",
    "    ----------\n",
    "    self : NameSpace\n",
    "        simulation constants \n",
    "    par : NameSpace\n",
    "        simulation parameters \n",
    "    \n",
    "    Returns\n",
    "    -------\n",
    "    par: NameSpace\n",
    "        updated simulation parameters\n",
    "    \n",
    "    \"\"\"\n",
    "    \n",
    "    for i in range(len(self.e)):\n",
    "        \n",
    "        par.n[:,:,i] = np.roll(par.n[:,:,i], self.e[i], axis = [0, 1])\n",
    "        \n",
    "    return par\n",
    "\n",
    "def boundary_bounch(self, par):\n",
    "    \"\"\"\n",
    "    \n",
    "    Takes the upper boundary and the lower boundary of a certain density vector. \n",
    "    Mirrors this vector and assigns the density accordingly. \n",
    "    \n",
    "    Parameters\n",
    "    ----------\n",
    "    self : NameSpace\n",
    "        simulation constants \n",
    "    par : NameSpace\n",
    "        simulation parameters \n",
    "    \n",
    "    Returns\n",
    "    -------\n",
    "    par: NameSpace\n",
    "        updated simulation parameters\n",
    "    \n",
    "    \"\"\"    \n",
    "    \n",
    "    # To keep track of exchanged boundaries\n",
    "    exchanged = np.ones((len(self.e),), dtype = bool)\n",
    "    \n",
    "    for i in range(len(self.e)):\n",
    "        if exchanged[i]:\n",
    "            e_inv = -1 * self.e[i]\n",
    "            j = np.argwhere(np.sum(e_inv == sim.e, axis = 1) == 2)[0]\n",
    "            \n",
    "            # Select upper and lower boundary \n",
    "            bd_1 = par.n[:,[0, self.W_in], i]\n",
    "            bd_2 = par.n[:,[0, self.W_in], j]\n",
    "            \n",
    "            # Exchange densities accordingly \n",
    "            par.n[:,[0, self.W_in], i] = bd_2\n",
    "            par.n[:,[0, self.W_in], j] = bd_1\n",
    "            \n",
    "            exchanged[i] = False\n",
    "            exchanged[j] = False\n",
    "            \n",
    "    return par \n",
    "\n",
    "def eq_n(self, par):\n",
    "    \n",
    "    par.n_eq = np.zeros(np.shape(par.n), dtype = float)\n",
    "    par.rho = np.mean(par.n, axis = 2)\n",
    "   \n",
    "    c = self.c\n",
    "    u = par.u\n",
    " \n",
    "    for i in range(len(self.e)):\n",
    "        par.n_eq[:,:,i] = self.w[i]*par.rho/self.m*(1 + (3/c**2)*np.dot(u, self.e[i]) + \n",
    "                                         (9/(2*c**4))*np.dot(u, self.e[i])**2 -\n",
    "                                         3/(2*c**2)*np.sum((u * u), axis = 2))\n",
    "                                       \n",
    "    return par \n",
    "\n",
    "def velocity(self, par):\n",
    "    \n",
    "    par.u = np.tensordot(par.n, self.e, axes = 1)\n",
    "\n",
    "    return par\n",
    "\n",
    "def forcing(self, par):\n",
    "    #incorrect still, not sure if this is a x or y forcing \n",
    "    \n",
    "    par.u[:, -3:, 0] = (1 - par.u[:, -3:, 0])*self.c*self.P\n",
    "\n",
    "    return par \n",
    "\n",
    "def relax_n(self, par):\n",
    "     \n",
    "    par.n = (1 - 1/self.tau)*par.n + par.n_eq/self.tau\n",
    "    \n",
    "    return par\n",
    "    "
   ]
  },
  {
   "cell_type": "code",
   "execution_count": 611,
   "metadata": {
    "scrolled": false
   },
   "outputs": [
    {
     "data": {
      "image/png": "[encoded data removed]",
      "text/plain": [
       "<matplotlib.figure.Figure at 0x7f1e9ac78d68>"
      ]
     },
     "metadata": {},
     "output_type": "display_data"
    },
    {
     "data": {
      "image/png": "[encoded data removed]",
      "text/plain": [
       "<matplotlib.figure.Figure at 0x7f1e9abf5080>"
      ]
     },
     "metadata": {},
     "output_type": "display_data"
    },
    {
     "data": {
      "image/png": "[encoded data removed]",
      "text/plain": [
       "<matplotlib.figure.Figure at 0x7f1e9ad7d4e0>"
      ]
     },
     "metadata": {},
     "output_type": "display_data"
    },
    {
     "data": {
      "image/png": "[encoded data removed]",
      "text/plain": [
       "<matplotlib.figure.Figure at 0x7f1e98d622e8>"
      ]
     },
     "metadata": {},
     "output_type": "display_data"
    },
    {
     "data": {
      "image/png": "[encoded data removed]",
      "text/plain": [
       "<matplotlib.figure.Figure at 0x7f1e9ac40dd8>"
      ]
     },
     "metadata": {},
     "output_type": "display_data"
    },
    {
     "data": {
      "image/png": "[encoded data removed]",
      "text/plain": [
       "<matplotlib.figure.Figure at 0x7f1e9afc1dd8>"
      ]
     },
     "metadata": {},
     "output_type": "display_data"
    },
    {
     "data": {
      "image/png": "[encoded data removed]",
      "text/plain": [
       "<matplotlib.figure.Figure at 0x7f1e9a5ad630>"
      ]
     },
     "metadata": {},
     "output_type": "display_data"
    },
    {
     "data": {
      "image/png": "[encoded data removed]",
      "text/plain": [
       "<matplotlib.figure.Figure at 0x7f1e9a5b1d30>"
      ]
     },
     "metadata": {},
     "output_type": "display_data"
    },
    {
     "data": {
      "image/png": "[encoded data removed]",
      "text/plain": [
       "<matplotlib.figure.Figure at 0x7f1e9ad5bfd0>"
      ]
     },
     "metadata": {},
     "output_type": "display_data"
    },
    {
     "data": {
      "image/png": "[encoded data removed]",
      "text/plain": [
       "<matplotlib.figure.Figure at 0x7f1e9ad2da58>"
      ]
     },
     "metadata": {},
     "output_type": "display_data"
    }
   ],
   "source": [
    "import numpy as np\n",
    "from types import SimpleNamespace\n",
    "\n",
    "sim = SimpleNamespace()\n",
    "sim.res = 0.05\n",
    "sim.L, sim.W = 3, 1\n",
    "sim.L_in, sim.W_in = int(sim.L/sim.res), int(sim.W/sim.res)  \n",
    "sim.L_n,  sim.W_n  = sim.L_in + 1, sim.W_in + 1\n",
    "\n",
    "sim.w = np.array([4, 1/4, 1, 1/4, 1, 1/4, 1, 1/4, 1])/9\n",
    "sim.e = np.array([[0,0], [1,0], [1,1], [0,1], [-1,1], [-1,0], [-1,-1], [0,-1], [1,-1]])\n",
    "\n",
    "sim.dt = 0.01\n",
    "sim.c = sim.res/sim.dt\n",
    "sim.nu = 10\n",
    "sim.tau = 3*(sim.nu*(sim.dt/sim.res**2) + 1)\n",
    "sim.m = 1\n",
    "sim.P = 1\n",
    "\n",
    "par = boltzmann_sim(sim)"
   ]
  },
  {
   "cell_type": "code",
   "execution_count": null,
   "metadata": {},
   "outputs": [],
   "source": [
    "# replaced by tensor dot in code \n",
    "np.shape(np.mean(np.reshape(par.n, (21, 6, 9, 1)) * sim.e, axis = 2))"
   ]
  }
 ],
 "metadata": {
  "kernelspec": {
   "display_name": "Python 3",
   "language": "python",
   "name": "python3"
  },
  "language_info": {
   "codemirror_mode": {
    "name": "ipython",
    "version": 3
   },
   "file_extension": ".py",
   "mimetype": "text/x-python",
   "name": "python",
   "nbconvert_exporter": "python",
   "pygments_lexer": "ipython3",
   "version": "3.6.2"
  }
 },
 "nbformat": 4,
 "nbformat_minor": 2
}
