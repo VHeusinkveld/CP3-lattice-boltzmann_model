{
 "cells": [
  {
   "cell_type": "markdown",
   "metadata": {},
   "source": [
    "# The Lattice Boltzmann model \n",
    "By: Tom de Krom (4281594) and Vincent Heusinkveld (4390725)"
   ]
  },
  {
   "cell_type": "markdown",
   "metadata": {},
   "source": [
    "---\n",
    "## Introduction \n",
    "In this project the Lattice Boltzmann model is considered. It is a so called 'toy model', solely based on the laws of energy, mass and momentum conservation. And it uses the isotropic relaxation of stress.  "
   ]
  },
  {
   "cell_type": "markdown",
   "metadata": {},
   "source": [
    "---\n",
    "## The Lattice Boltzmann model \n",
    "In the model only densities of particles, $n_i$, and velocity, $v_i$, with a certain direction are taken into account. These directions correspond to the vectors labeled i making up the lattice. In this case a 9 vector lattice is used called the d2q9 lattice as shown in the figure below (Thijssen 2007): \n",
    "\n",
    "![d2q9_lattice](./images/d2q9.png)\n",
    "\n",
    "### The algorithm\n",
    "\n",
    "The algorithm works as follows (Thijssen 2007):\n",
    "\n",
    "- The densities $n_i$ are moved to the appropriate neighbour according to the direction of the lattice vectors.\n",
    "- If the velocities pass over the boundaries they should be reversed.\n",
    "- The velocities are calulated at each point and are weighted according to their respective density.\n",
    "- A small velocity is added in the flow direction to simulate a pressure gradient. \n",
    "- The equilibrium distribution is calulated according to formula 14.34 of Thijssen 2007.\n",
    "- The densites are relaxed at each point according to: $n_i^{new} = (1-1/\\tau)n_i^{old} + n^{eq}_i/\\tau$. In which $\\tau$ is the relaxation time.\n",
    "\n",
    "### Usefull relations \n",
    "\n",
    "The relation between the viscocity and the relaxation time is given by: $\\nu = \\frac{2\\tau - 1}{6}\\frac{\\Delta x^2}{\\Delta t}$. (Thijssen 2007)\n",
    "\n",
    "The curvature of the velocity of the flow should be $\\nabla P/\\rho v$. In which $\\nabla P$ can be related to the velocity addition in the flow direction via: $ \\nabla P = c\\rho\\Delta v $. (Thijssen 2007)\n",
    "\n"
   ]
  },
  {
   "cell_type": "markdown",
   "metadata": {},
   "source": [
    "---\n",
    "## The simulation \n",
    "### The setup\n",
    "For the geometry a 2D 'pipe' is defined, to which a square obstruction can be added, which will be centered in the pipe. Then the lattice vectors are defined, including a relation between the lattice vector and it's inverse (version in opposite direction). This is later need to incorporate the boundary conditions. \n",
    "\n",
    "As for the parameters, $\\Delta x$ and $\\Delta t$ are set to 1 to simplify the relations. The maximum number of simulation iterations and the viscosity can be set to the desired value. The viscosity should be defined such that the relaxation time, $\\tau$, is bigger then 1. This is to ensure that the system does not relax faster then the minimal time step, $\\Delta t$. \n",
    "\n",
    "### Application of the algorithm\n",
    "The simulation is initialised such that the density everywhere equals 1 expect for the boundaries and in the obstruction, at which it is set to 0. Then a velocity forcing in applied (due to the pressure gradient), after which the equilibrium distribution, $n_{eq}$, is determined for every lattice point.\n",
    "\n",
    "After this, the algorithm described above is implemented. For the translation of the densities, `numpy.roll()` is used in combination with the lattice vectors. \n",
    "\n",
    "The boundary condition has the following worling principle:\n",
    "If the density corresponding to vector `[1,0]` crosses the right boundary, the density gets transferred to the `[-1,0]` vector, such that the next time step the density returns to the pipe domain. \n",
    "\n",
    "The rest of the code is implemented straightforwardly. \n"
   ]
  },
  {
   "cell_type": "markdown",
   "metadata": {},
   "source": [
    "---\n",
    "## Results \n",
    "- Show parabolic behaviour\n",
    "- Someting with Reynolds number?\n",
    "- Quantatative restuls including movies \n",
    "\n",
    "### Parabolic behaviour\n",
    "\n",
    "### Flow around a square obstacle\n",
    "\n",
    "### Flow around a cilinder"
   ]
  },
  {
   "cell_type": "markdown",
   "metadata": {},
   "source": [
    "---\n",
    "## Conclusion "
   ]
  },
  {
   "attachments": {
    "velocity_development.png": {
     "image/png": "[encoded data removed]"
    }
   },
   "cell_type": "markdown",
   "metadata": {},
   "source": [
    "---\n",
    "## Code checks\n",
    "\n",
    "### Parabolic flow profile\n",
    "\n",
    "### Conservation\n",
    "**Equilibrium**\n",
    "![velocity_development.png](attachment:velocity_development.png)\n",
    "\n",
    "**Energy:**\n",
    "\n",
    "**Density:**"
   ]
  },
  {
   "cell_type": "markdown",
   "metadata": {},
   "source": [
    "---\n",
    "## Simulation performance\n",
    "Scaling with system size. Absolute runtime. \n"
   ]
  },
  {
   "cell_type": "markdown",
   "metadata": {},
   "source": [
    "---\n",
    "## Collaboration \n",
    "In general...\n",
    "\n",
    "**Both:**\n",
    "\n",
    "**Tom:**\n",
    "\n",
    "**Vincent:**\n"
   ]
  },
  {
   "cell_type": "markdown",
   "metadata": {},
   "source": [
    "---\n",
    "## Sources\n",
    "- Thijssen, J. (2007). Computational physics, 2nd edition. Camebridge University Press"
   ]
  },
  {
   "cell_type": "markdown",
   "metadata": {},
   "source": []
  }
 ],
 "metadata": {
  "kernelspec": {
   "display_name": "Python 3",
   "language": "python",
   "name": "python3"
  },
  "language_info": {
   "codemirror_mode": {
    "name": "ipython",
    "version": 3
   },
   "file_extension": ".py",
   "mimetype": "text/x-python",
   "name": "python",
   "nbconvert_exporter": "python",
   "pygments_lexer": "ipython3",
   "version": "3.6.2"
  }
 },
 "nbformat": 4,
 "nbformat_minor": 2
}
