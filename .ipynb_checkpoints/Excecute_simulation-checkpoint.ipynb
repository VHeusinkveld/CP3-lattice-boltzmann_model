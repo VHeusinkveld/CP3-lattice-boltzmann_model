{
 "cells": [
  {
   "cell_type": "markdown",
   "metadata": {},
   "source": [
    "# Boltzmann Lattice (Fluid flow)"
   ]
  },
  {
   "cell_type": "markdown",
   "metadata": {},
   "source": [
    "## Simulation setup & execution"
   ]
  },
  {
   "cell_type": "code",
   "execution_count": null,
   "metadata": {},
   "outputs": [],
   "source": [
    "import time as tm\n",
    "from types import SimpleNamespace\n",
    "from Boltzmann_simulation import *\n",
    "\n",
    "start_time = tm.time()\n",
    "\n",
    "# Create name space\n",
    "sim = SimpleNamespace()\n",
    "\n",
    "# Assign system dimensions/parameters\n",
    "sim.L, sim.W = 60, 20\n",
    "sim.m = 1\n",
    "sim.P = 1\n",
    "sim.epsilon = 0\n",
    "sim.max_iterations = 200\n",
    "sim.nu = 0.5\n",
    "\n",
    "# Resolutions\n",
    "sim.res = 1 # Space resolution\n",
    "sim.dt = 1 # Time resolution\n",
    "\n",
    "# Grid constants\n",
    "sim.L_in, sim.W_in = int(sim.L/sim.res), int(sim.W/sim.res)  \n",
    "sim.L_n,  sim.W_n  = sim.L_in + 1, sim.W_in + 1\n",
    "\n",
    "# Weights and direction vectors\n",
    "sim.w = np.array([4, 1/4, 1, 1/4, 1, 1/4, 1, 1/4, 1])/9\n",
    "sim.e = np.array([[0,0], [1,0], [1,1], [0,1], [-1,1], [-1,0], [-1,-1], [0,-1], [1,-1]])\n",
    "sim.e_norm = np.sum(abs(sim.e), axis = 1)\n",
    "sim.bounch = np.array([[1,5], [2,6], [3,7], [4,8]])\n",
    "\n",
    "sim.c = sim.res/sim.dt \n",
    "sim.tau = (6*(sim.nu*(sim.dt/sim.res**2)) + 1)/2 # Relaxation time\n",
    "\n",
    "# Actual simulation\n",
    "par = boltzmann_sim(sim)\n",
    "\n",
    "end_time = tm.time()\n",
    "total_time = end_time - start_time\n",
    "#results.sim_time = total_time"
   ]
  },
  {
   "cell_type": "code",
   "execution_count": null,
   "metadata": {},
   "outputs": [],
   "source": [
    "sim.tau"
   ]
  },
  {
   "cell_type": "markdown",
   "metadata": {},
   "source": [
    "# To Do\n",
    "\n",
    "- Implement intial densities  (now just set to 0), make sure that upper and lower boundary are set to 0.\n",
    "- Implement pressure gradient (hence for in x direction) (In forcing function)\n",
    "- for loop in velocity determinations needs to be replaced by other less time consuming mechanism\n",
    "- In BC np.argwhere niet gebruiken\n",
    "- Namespace for results (needed for data processing)\n",
    "- Add movie"
   ]
  },
  {
   "cell_type": "code",
   "execution_count": null,
   "metadata": {},
   "outputs": [],
   "source": []
  }
 ],
 "metadata": {
  "kernelspec": {
   "display_name": "Python 3",
   "language": "python",
   "name": "python3"
  },
  "language_info": {
   "codemirror_mode": {
    "name": "ipython",
    "version": 3
   },
   "file_extension": ".py",
   "mimetype": "text/x-python",
   "name": "python",
   "nbconvert_exporter": "python",
   "pygments_lexer": "ipython3",
   "version": "3.6.2"
  }
 },
 "nbformat": 4,
 "nbformat_minor": 2
}
