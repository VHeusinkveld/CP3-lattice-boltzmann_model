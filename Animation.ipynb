{
 "cells": [
  {
   "cell_type": "code",
   "execution_count": 17,
   "metadata": {
    "scrolled": true
   },
   "outputs": [
    {
     "name": "stdout",
     "output_type": "stream",
     "text": [
      "\n",
      "[MoviePy] Building file Test_animation_log.gif with imageio\n"
     ]
    },
    {
     "name": "stderr",
     "output_type": "stream",
     "text": [
      "100%|█████████▉| 900/901 [02:25<00:00,  6.18it/s]\n"
     ]
    }
   ],
   "source": [
    "import matplotlib.pyplot as plt\n",
    "import numpy as np\n",
    "from types import SimpleNamespace\n",
    "from moviepy.editor import VideoClip\n",
    "from moviepy.video.io.bindings import mplfig_to_npimage\n",
    "from Boltzmann_simulation import *\n",
    "from functions import *\n",
    "\n",
    "# Create name space\n",
    "sim = SimpleNamespace()\n",
    "\n",
    "# Assign system dimensions/parameters\n",
    "sim.L, sim.W = 600, 200\n",
    "sim.m = 1\n",
    "sim.P = 1\n",
    "sim.epsilon = 0#0.0001\n",
    "sim.max_iterations = 100\n",
    "sim.plot_iteration = 50\n",
    "sim.nu = 0.1\n",
    "\n",
    "# Square obstacle\n",
    "sim.L_ratio = 1/20  # Length of the object wrt length of the system\n",
    "sim.W_ratio = 1/10 # Width of the object wrt length of the system\n",
    "\n",
    "# Resolutions\n",
    "sim.res = 1 # Space resolution\n",
    "sim.dt = 1 # Time resolution\n",
    "\n",
    "# Grid constants\n",
    "sim.L_in, sim.W_in = int(sim.L/sim.res), int(sim.W/sim.res)  \n",
    "sim.L_n,  sim.W_n  = sim.L_in + 1, sim.W_in + 1\n",
    "\n",
    "# Weights and direction vectors\n",
    "sim.w = np.array([4, 1/4, 1, 1/4, 1, 1/4, 1, 1/4, 1])/9\n",
    "sim.e = np.array([[0,0], [1,0], [1,1], [0,1], [-1,1], [-1,0], [-1,-1], [0,-1], [1,-1]])\n",
    "sim.e_norm = np.sum(abs(sim.e), axis = 1)\n",
    "#sim.e_norm = np.ones(np.shape(sim.e_norm)) #to set the norm to 1\n",
    "sim.bounch = np.array([[1,5], [2,6], [3,7], [4,8]])\n",
    "\n",
    "sim.c = sim.res/sim.dt \n",
    "sim.dv = 0.01\n",
    "sim.tau = (6*(sim.nu*(sim.dt/sim.res)**2) + 1)/2 # Relaxation time\n",
    "\n",
    "#-----------------------------------------------------------------------------\n",
    "#-----------------------------------------------------------------------------\n",
    "\n",
    "# Naming of animation\n",
    "animation_name = 'Test_animation_log'\n",
    "\n",
    "# Duration of animation\n",
    "ani_duration = 30\n",
    "\n",
    "sim, par = initialization(sim)\n",
    "\n",
    "fig, ax = plt.subplots(1, figsize=(4,4), facecolor=(1,1,1))\n",
    "#fig.subplots_adjust(left=0, right=1, bottom=0)\n",
    "\n",
    "def make_frame(t):\n",
    "    global par\n",
    "    par = simulation_step(sim,par)\n",
    "        \n",
    "    \n",
    "    ax.clear()\n",
    "    ax.axis('off')\n",
    "    #ax.set_title(\"v\", fontsize=16)\n",
    "    \n",
    "    ax.imshow(np.log(par.rho))\n",
    "    #ax.imshow(par.u[:,:,0])\n",
    "\n",
    "    return mplfig_to_npimage(fig)\n",
    "\n",
    "animation = VideoClip(make_frame, duration = ani_duration)\n",
    "animation.write_gif(animation_name + '.gif', fps=30)"
   ]
  },
  {
   "cell_type": "code",
   "execution_count": null,
   "metadata": {
    "scrolled": true
   },
   "outputs": [],
   "source": [
    "sim.tau"
   ]
  },
  {
   "cell_type": "code",
   "execution_count": null,
   "metadata": {
    "scrolled": true
   },
   "outputs": [],
   "source": []
  }
 ],
 "metadata": {
  "kernelspec": {
   "display_name": "Python 3",
   "language": "python",
   "name": "python3"
  },
  "language_info": {
   "codemirror_mode": {
    "name": "ipython",
    "version": 3
   },
   "file_extension": ".py",
   "mimetype": "text/x-python",
   "name": "python",
   "nbconvert_exporter": "python",
   "pygments_lexer": "ipython3",
   "version": "3.6.2"
  }
 },
 "nbformat": 4,
 "nbformat_minor": 2
}
