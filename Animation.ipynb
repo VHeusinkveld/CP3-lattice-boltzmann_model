{
 "cells": [
  {
   "cell_type": "code",
   "execution_count": 4,
   "metadata": {
    "scrolled": true
   },
   "outputs": [
    {
     "name": "stdout",
     "output_type": "stream",
     "text": [
      "\n",
      "[MoviePy] Building file Test_animation_L500_W100_1.gif with imageio\n"
     ]
    },
    {
     "name": "stderr",
     "output_type": "stream",
     "text": [
      "100%|█████████▉| 900/901 [01:14<00:00, 12.07it/s]\n"
     ]
    }
   ],
   "source": [
    "import matplotlib.pyplot as plt\n",
    "import numpy as np\n",
    "from types import SimpleNamespace\n",
    "from moviepy.editor import VideoClip\n",
    "from moviepy.video.io.bindings import mplfig_to_npimage\n",
    "from Boltzmann_simulation import *\n",
    "from functions import *\n",
    "from constants import *\n",
    "\n",
    "# -----------------------------------------------------------------------------------------------------------------------\n",
    "# Set system parameters and load system constants\n",
    "# -----------------------------------------------------------------------------------------------------------------------\n",
    "\n",
    "# Create name space\n",
    "sim = SimpleNamespace()\n",
    "\n",
    "# Assign system dimensions/parameters\n",
    "sim.L, sim.W = 500, 100\n",
    "sim.m = 1\n",
    "sim.P = 1\n",
    "sim.epsilon = 0#0.0001\n",
    "sim.max_iterations = 500\n",
    "sim.plot_iteration = 50\n",
    "sim.nu = 2\n",
    "sim.dv = 0.05\n",
    "\n",
    "# Square obstacle\n",
    "sim.obs = True # Bool\n",
    "sim.L_ratio = 1/20  # Length of the object wrt length of the system\n",
    "sim.W_ratio = 1/10 # Width of the object wrt length of the system\n",
    "\n",
    "#Load constants\n",
    "sim = constants(sim)\n",
    "\n",
    "# -----------------------------------------------------------------------------------------------------------------------\n",
    "# Animation\n",
    "# -----------------------------------------------------------------------------------------------------------------------\n",
    "\n",
    "# Naming of animation\n",
    "version = 1\n",
    "animation_name = 'Test_animation_' + 'L' + str(sim.L) + '_' + 'W' + str(sim.W) + '_' + str(version)\n",
    "\n",
    "# Duration of animation\n",
    "ani_duration = 30\n",
    "\n",
    "sim, par = initialization(sim)\n",
    "\n",
    "fig, ax = plt.subplots(1, figsize=(4,4), facecolor=(1,1,1))\n",
    "#fig.subplots_adjust(left=0, right=1, bottom=0)\n",
    "\n",
    "def make_frame(t):\n",
    "    global par\n",
    "    par = simulation_step(sim,par)\n",
    "        \n",
    "    \n",
    "    ax.clear()\n",
    "    ax.axis('off')\n",
    "    #ax.set_title(\"v\", fontsize=16)\n",
    "    \n",
    "    ax.imshow(np.log(par.rho), vmin = 0, vmax = 10)\n",
    "    #ax.imshow(par.u[:,:,0])\n",
    "\n",
    "    return mplfig_to_npimage(fig)\n",
    "\n",
    "animation = VideoClip(make_frame, duration = ani_duration)\n",
    "animation.write_gif(animation_name + '.gif', fps=30)"
   ]
  },
  {
   "cell_type": "code",
   "execution_count": null,
   "metadata": {
    "scrolled": true
   },
   "outputs": [],
   "source": [
    "sim.tau"
   ]
  },
  {
   "cell_type": "code",
   "execution_count": null,
   "metadata": {
    "scrolled": true
   },
   "outputs": [],
   "source": []
  }
 ],
 "metadata": {
  "kernelspec": {
   "display_name": "Python 3",
   "language": "python",
   "name": "python3"
  },
  "language_info": {
   "codemirror_mode": {
    "name": "ipython",
    "version": 3
   },
   "file_extension": ".py",
   "mimetype": "text/x-python",
   "name": "python",
   "nbconvert_exporter": "python",
   "pygments_lexer": "ipython3",
   "version": "3.6.2"
  }
 },
 "nbformat": 4,
 "nbformat_minor": 2
}
